{
  "cells": [
    {
      "cell_type": "code",
      "execution_count": 1,
      "metadata": {
        "colab": {
          "base_uri": "https://localhost:8080/"
        },
        "id": "PSgp8J771Gld",
        "outputId": "c1f2ef2d-4f7d-4704-ec0d-938405f26029"
      },
      "outputs": [
        {
          "output_type": "stream",
          "name": "stdout",
          "text": [
            "Hit:1 http://archive.ubuntu.com/ubuntu jammy InRelease\n",
            "Get:2 http://security.ubuntu.com/ubuntu jammy-security InRelease [129 kB]\n",
            "Get:3 https://cloud.r-project.org/bin/linux/ubuntu jammy-cran40/ InRelease [3,632 B]\n",
            "Get:4 https://developer.download.nvidia.com/compute/cuda/repos/ubuntu2204/x86_64  InRelease [1,581 B]\n",
            "Get:5 http://archive.ubuntu.com/ubuntu jammy-updates InRelease [128 kB]\n",
            "Get:6 https://r2u.stat.illinois.edu/ubuntu jammy InRelease [6,555 B]\n",
            "Hit:7 https://ppa.launchpadcontent.net/deadsnakes/ppa/ubuntu jammy InRelease\n",
            "Get:8 https://ppa.launchpadcontent.net/graphics-drivers/ppa/ubuntu jammy InRelease [24.3 kB]\n",
            "Get:9 http://archive.ubuntu.com/ubuntu jammy-backports InRelease [127 kB]\n",
            "Get:10 https://ppa.launchpadcontent.net/ubuntugis/ppa/ubuntu jammy InRelease [24.6 kB]\n",
            "Get:11 https://developer.download.nvidia.com/compute/cuda/repos/ubuntu2204/x86_64  Packages [1,683 kB]\n",
            "Get:12 https://r2u.stat.illinois.edu/ubuntu jammy/main all Packages [8,972 kB]\n",
            "Get:13 https://r2u.stat.illinois.edu/ubuntu jammy/main amd64 Packages [2,730 kB]\n",
            "Get:14 http://security.ubuntu.com/ubuntu jammy-security/universe amd64 Packages [1,245 kB]\n",
            "Get:15 http://archive.ubuntu.com/ubuntu jammy-updates/restricted amd64 Packages [4,540 kB]\n",
            "Get:16 http://security.ubuntu.com/ubuntu jammy-security/main amd64 Packages [2,944 kB]\n",
            "Get:17 http://security.ubuntu.com/ubuntu jammy-security/restricted amd64 Packages [4,387 kB]\n",
            "Get:18 http://archive.ubuntu.com/ubuntu jammy-updates/universe amd64 Packages [1,552 kB]\n",
            "Get:19 http://archive.ubuntu.com/ubuntu jammy-updates/main amd64 Packages [3,255 kB]\n",
            "Get:20 https://ppa.launchpadcontent.net/graphics-drivers/ppa/ubuntu jammy/main amd64 Packages [46.6 kB]\n",
            "Get:21 http://archive.ubuntu.com/ubuntu jammy-backports/main amd64 Packages [83.2 kB]\n",
            "Get:22 http://archive.ubuntu.com/ubuntu jammy-backports/universe amd64 Packages [35.2 kB]\n",
            "Get:23 https://ppa.launchpadcontent.net/ubuntugis/ppa/ubuntu jammy/main amd64 Packages [75.1 kB]\n",
            "Fetched 32.0 MB in 8s (4,144 kB/s)\n",
            "Reading package lists... Done\n",
            "W: Skipping acquire of configured file 'main/source/Sources' as repository 'https://r2u.stat.illinois.edu/ubuntu jammy InRelease' does not seem to provide it (sources.list entry misspelt?)\n",
            "Reading package lists... Done\n",
            "Building dependency tree... Done\n",
            "Reading state information... Done\n",
            "The following additional packages will be installed:\n",
            "  libpython3.8-minimal libpython3.8-stdlib python3.8-minimal\n",
            "Suggested packages:\n",
            "  python3.8-venv binfmt-support\n",
            "The following NEW packages will be installed:\n",
            "  libpython3.8-minimal libpython3.8-stdlib python3.8 python3.8-minimal\n",
            "0 upgraded, 4 newly installed, 0 to remove and 93 not upgraded.\n",
            "Need to get 5,076 kB of archives.\n",
            "After this operation, 18.8 MB of additional disk space will be used.\n",
            "Get:1 https://ppa.launchpadcontent.net/deadsnakes/ppa/ubuntu jammy/main amd64 libpython3.8-minimal amd64 3.8.20-1+jammy1 [796 kB]\n",
            "Get:2 https://ppa.launchpadcontent.net/deadsnakes/ppa/ubuntu jammy/main amd64 python3.8-minimal amd64 3.8.20-1+jammy1 [2,023 kB]\n",
            "Get:3 https://ppa.launchpadcontent.net/deadsnakes/ppa/ubuntu jammy/main amd64 libpython3.8-stdlib amd64 3.8.20-1+jammy1 [1,817 kB]\n",
            "Get:4 https://ppa.launchpadcontent.net/deadsnakes/ppa/ubuntu jammy/main amd64 python3.8 amd64 3.8.20-1+jammy1 [440 kB]\n",
            "Fetched 5,076 kB in 8s (611 kB/s)\n",
            "debconf: unable to initialize frontend: Dialog\n",
            "debconf: (No usable dialog-like program is installed, so the dialog based frontend cannot be used. at /usr/share/perl5/Debconf/FrontEnd/Dialog.pm line 78, <> line 4.)\n",
            "debconf: falling back to frontend: Readline\n",
            "debconf: unable to initialize frontend: Readline\n",
            "debconf: (This frontend requires a controlling tty.)\n",
            "debconf: falling back to frontend: Teletype\n",
            "dpkg-preconfigure: unable to re-open stdin: \n",
            "Selecting previously unselected package libpython3.8-minimal:amd64.\n",
            "(Reading database ... 126102 files and directories currently installed.)\n",
            "Preparing to unpack .../libpython3.8-minimal_3.8.20-1+jammy1_amd64.deb ...\n",
            "Unpacking libpython3.8-minimal:amd64 (3.8.20-1+jammy1) ...\n",
            "Selecting previously unselected package python3.8-minimal.\n",
            "Preparing to unpack .../python3.8-minimal_3.8.20-1+jammy1_amd64.deb ...\n",
            "Unpacking python3.8-minimal (3.8.20-1+jammy1) ...\n",
            "Selecting previously unselected package libpython3.8-stdlib:amd64.\n",
            "Preparing to unpack .../libpython3.8-stdlib_3.8.20-1+jammy1_amd64.deb ...\n",
            "Unpacking libpython3.8-stdlib:amd64 (3.8.20-1+jammy1) ...\n",
            "Selecting previously unselected package python3.8.\n",
            "Preparing to unpack .../python3.8_3.8.20-1+jammy1_amd64.deb ...\n",
            "Unpacking python3.8 (3.8.20-1+jammy1) ...\n",
            "Setting up libpython3.8-minimal:amd64 (3.8.20-1+jammy1) ...\n",
            "Setting up python3.8-minimal (3.8.20-1+jammy1) ...\n",
            "Setting up libpython3.8-stdlib:amd64 (3.8.20-1+jammy1) ...\n",
            "Setting up python3.8 (3.8.20-1+jammy1) ...\n",
            "Processing triggers for man-db (2.10.2-1) ...\n",
            "Processing triggers for mailcap (3.70+nmu1ubuntu1) ...\n"
          ]
        }
      ],
      "source": [
        "!sudo apt-get update -y\n",
        "!sudo apt-get install -y python3.8"
      ]
    },
    {
      "cell_type": "code",
      "execution_count": 2,
      "metadata": {
        "colab": {
          "base_uri": "https://localhost:8080/"
        },
        "id": "6ZdUGpN01O8P",
        "outputId": "37e43d6b-535a-4548-ef66-f7face7482f0"
      },
      "outputs": [
        {
          "output_type": "stream",
          "name": "stdout",
          "text": [
            "Reading package lists... Done\n",
            "Building dependency tree... Done\n",
            "Reading state information... Done\n",
            "The following additional packages will be installed:\n",
            "  python3.8-lib2to3\n",
            "The following NEW packages will be installed:\n",
            "  python3.8-distutils python3.8-lib2to3\n",
            "0 upgraded, 2 newly installed, 0 to remove and 93 not upgraded.\n",
            "Need to get 319 kB of archives.\n",
            "After this operation, 1,237 kB of additional disk space will be used.\n",
            "Get:1 https://ppa.launchpadcontent.net/deadsnakes/ppa/ubuntu jammy/main amd64 python3.8-lib2to3 all 3.8.20-1+jammy1 [126 kB]\n",
            "Get:2 https://ppa.launchpadcontent.net/deadsnakes/ppa/ubuntu jammy/main amd64 python3.8-distutils all 3.8.20-1+jammy1 [193 kB]\n",
            "Fetched 319 kB in 1s (249 kB/s)\n",
            "debconf: unable to initialize frontend: Dialog\n",
            "debconf: (No usable dialog-like program is installed, so the dialog based frontend cannot be used. at /usr/share/perl5/Debconf/FrontEnd/Dialog.pm line 78, <> line 2.)\n",
            "debconf: falling back to frontend: Readline\n",
            "debconf: unable to initialize frontend: Readline\n",
            "debconf: (This frontend requires a controlling tty.)\n",
            "debconf: falling back to frontend: Teletype\n",
            "dpkg-preconfigure: unable to re-open stdin: \n",
            "Selecting previously unselected package python3.8-lib2to3.\n",
            "(Reading database ... 126728 files and directories currently installed.)\n",
            "Preparing to unpack .../python3.8-lib2to3_3.8.20-1+jammy1_all.deb ...\n",
            "Unpacking python3.8-lib2to3 (3.8.20-1+jammy1) ...\n",
            "Selecting previously unselected package python3.8-distutils.\n",
            "Preparing to unpack .../python3.8-distutils_3.8.20-1+jammy1_all.deb ...\n",
            "Unpacking python3.8-distutils (3.8.20-1+jammy1) ...\n",
            "Setting up python3.8-lib2to3 (3.8.20-1+jammy1) ...\n",
            "Setting up python3.8-distutils (3.8.20-1+jammy1) ...\n",
            "  % Total    % Received % Xferd  Average Speed   Time    Time     Time  Current\n",
            "                                 Dload  Upload   Total   Spent    Left  Speed\n",
            "100 2246k  100 2246k    0     0  4584k      0 --:--:-- --:--:-- --:--:-- 4593k\n",
            "Collecting pip<25.1\n",
            "  Downloading pip-25.0.1-py3-none-any.whl.metadata (3.7 kB)\n",
            "Collecting setuptools\n",
            "  Downloading setuptools-75.3.2-py3-none-any.whl.metadata (6.9 kB)\n",
            "Collecting wheel\n",
            "  Downloading wheel-0.45.1-py3-none-any.whl.metadata (2.3 kB)\n",
            "Downloading pip-25.0.1-py3-none-any.whl (1.8 MB)\n",
            "\u001b[2K   \u001b[90m━━━━━━━━━━━━━━━━━━━━━━━━━━━━━━━━━━━━━━━━\u001b[0m \u001b[32m1.8/1.8 MB\u001b[0m \u001b[31m34.5 MB/s\u001b[0m eta \u001b[36m0:00:00\u001b[0m\n",
            "\u001b[?25hDownloading setuptools-75.3.2-py3-none-any.whl (1.3 MB)\n",
            "\u001b[2K   \u001b[90m━━━━━━━━━━━━━━━━━━━━━━━━━━━━━━━━━━━━━━━━\u001b[0m \u001b[32m1.3/1.3 MB\u001b[0m \u001b[31m54.5 MB/s\u001b[0m eta \u001b[36m0:00:00\u001b[0m\n",
            "\u001b[?25hDownloading wheel-0.45.1-py3-none-any.whl (72 kB)\n",
            "Installing collected packages: wheel, setuptools, pip\n",
            "Successfully installed pip-25.0.1 setuptools-75.3.2 wheel-0.45.1\n"
          ]
        }
      ],
      "source": [
        "!sudo apt-get install -y python3.8-distutils\n",
        "# !wget https://bootstrap.pypa.io/get-pip.py\n",
        "\n",
        "\n",
        "!curl https://bootstrap.pypa.io/pip/3.8/get-pip.py -o get-pip.py\n",
        "!python3.8 get-pip.py\n"
      ]
    },
    {
      "cell_type": "code",
      "execution_count": 3,
      "metadata": {
        "colab": {
          "base_uri": "https://localhost:8080/"
        },
        "id": "d1WjM7Wd5emK",
        "outputId": "92079171-0da8-4d8e-e931-f47777ec3e42"
      },
      "outputs": [
        {
          "output_type": "stream",
          "name": "stdout",
          "text": [
            "Python 3.8.20\n",
            "pip 25.0.1 from /usr/local/lib/python3.8/dist-packages/pip (python 3.8)\n"
          ]
        }
      ],
      "source": [
        "!python3.8 --version\n",
        "!python3.8 -m pip --version\n"
      ]
    },
    {
      "cell_type": "code",
      "execution_count": 4,
      "metadata": {
        "colab": {
          "base_uri": "https://localhost:8080/"
        },
        "id": "QJorE-Mw0_XG",
        "outputId": "e165361a-9beb-4128-e5ee-8e4f0fb55f6a"
      },
      "outputs": [
        {
          "output_type": "stream",
          "name": "stdout",
          "text": [
            "Collecting torch==1.12.1\n",
            "  Downloading torch-1.12.1-cp38-cp38-manylinux1_x86_64.whl.metadata (22 kB)\n",
            "Collecting typing-extensions (from torch==1.12.1)\n",
            "  Downloading typing_extensions-4.13.2-py3-none-any.whl.metadata (3.0 kB)\n",
            "Downloading torch-1.12.1-cp38-cp38-manylinux1_x86_64.whl (776.3 MB)\n",
            "\u001b[2K   \u001b[90m━━━━━━━━━━━━━━━━━━━━━━━━━━━━━━━━━━━━━━━━\u001b[0m \u001b[32m776.3/776.3 MB\u001b[0m \u001b[31m34.7 MB/s\u001b[0m eta \u001b[36m0:00:00\u001b[0m\n",
            "\u001b[?25hDownloading typing_extensions-4.13.2-py3-none-any.whl (45 kB)\n",
            "Installing collected packages: typing-extensions, torch\n",
            "Successfully installed torch-1.12.1 typing-extensions-4.13.2\n",
            "Collecting scikit-learn==1.2.2\n",
            "  Downloading scikit_learn-1.2.2-cp38-cp38-manylinux_2_17_x86_64.manylinux2014_x86_64.whl.metadata (11 kB)\n",
            "Collecting numpy>=1.17.3 (from scikit-learn==1.2.2)\n",
            "  Downloading numpy-1.24.4-cp38-cp38-manylinux_2_17_x86_64.manylinux2014_x86_64.whl.metadata (5.6 kB)\n",
            "Collecting scipy>=1.3.2 (from scikit-learn==1.2.2)\n",
            "  Downloading scipy-1.10.1-cp38-cp38-manylinux_2_17_x86_64.manylinux2014_x86_64.whl.metadata (58 kB)\n",
            "Collecting joblib>=1.1.1 (from scikit-learn==1.2.2)\n",
            "  Downloading joblib-1.4.2-py3-none-any.whl.metadata (5.4 kB)\n",
            "Collecting threadpoolctl>=2.0.0 (from scikit-learn==1.2.2)\n",
            "  Downloading threadpoolctl-3.5.0-py3-none-any.whl.metadata (13 kB)\n",
            "Downloading scikit_learn-1.2.2-cp38-cp38-manylinux_2_17_x86_64.manylinux2014_x86_64.whl (9.8 MB)\n",
            "\u001b[2K   \u001b[90m━━━━━━━━━━━━━━━━━━━━━━━━━━━━━━━━━━━━━━━━\u001b[0m \u001b[32m9.8/9.8 MB\u001b[0m \u001b[31m99.5 MB/s\u001b[0m eta \u001b[36m0:00:00\u001b[0m\n",
            "\u001b[?25hDownloading joblib-1.4.2-py3-none-any.whl (301 kB)\n",
            "Downloading numpy-1.24.4-cp38-cp38-manylinux_2_17_x86_64.manylinux2014_x86_64.whl (17.3 MB)\n",
            "\u001b[2K   \u001b[90m━━━━━━━━━━━━━━━━━━━━━━━━━━━━━━━━━━━━━━━━\u001b[0m \u001b[32m17.3/17.3 MB\u001b[0m \u001b[31m140.1 MB/s\u001b[0m eta \u001b[36m0:00:00\u001b[0m\n",
            "\u001b[?25hDownloading scipy-1.10.1-cp38-cp38-manylinux_2_17_x86_64.manylinux2014_x86_64.whl (34.5 MB)\n",
            "\u001b[2K   \u001b[90m━━━━━━━━━━━━━━━━━━━━━━━━━━━━━━━━━━━━━━━━\u001b[0m \u001b[32m34.5/34.5 MB\u001b[0m \u001b[31m41.9 MB/s\u001b[0m eta \u001b[36m0:00:00\u001b[0m\n",
            "\u001b[?25hDownloading threadpoolctl-3.5.0-py3-none-any.whl (18 kB)\n",
            "Installing collected packages: threadpoolctl, numpy, joblib, scipy, scikit-learn\n",
            "Successfully installed joblib-1.4.2 numpy-1.24.4 scikit-learn-1.2.2 scipy-1.10.1 threadpoolctl-3.5.0\n",
            "Collecting gdown\n",
            "  Downloading gdown-5.2.0-py3-none-any.whl.metadata (5.8 kB)\n",
            "Collecting beautifulsoup4 (from gdown)\n",
            "  Downloading beautifulsoup4-4.13.4-py3-none-any.whl.metadata (3.8 kB)\n",
            "Collecting filelock (from gdown)\n",
            "  Downloading filelock-3.16.1-py3-none-any.whl.metadata (2.9 kB)\n",
            "Collecting requests[socks] (from gdown)\n",
            "  Downloading requests-2.32.3-py3-none-any.whl.metadata (4.6 kB)\n",
            "Collecting tqdm (from gdown)\n",
            "  Downloading tqdm-4.67.1-py3-none-any.whl.metadata (57 kB)\n",
            "Collecting soupsieve>1.2 (from beautifulsoup4->gdown)\n",
            "  Downloading soupsieve-2.7-py3-none-any.whl.metadata (4.6 kB)\n",
            "Requirement already satisfied: typing-extensions>=4.0.0 in /usr/local/lib/python3.8/dist-packages (from beautifulsoup4->gdown) (4.13.2)\n",
            "Collecting charset-normalizer<4,>=2 (from requests[socks]->gdown)\n",
            "  Downloading charset_normalizer-3.4.2-cp38-cp38-manylinux_2_17_x86_64.manylinux2014_x86_64.whl.metadata (35 kB)\n",
            "Collecting idna<4,>=2.5 (from requests[socks]->gdown)\n",
            "  Downloading idna-3.10-py3-none-any.whl.metadata (10 kB)\n",
            "Collecting urllib3<3,>=1.21.1 (from requests[socks]->gdown)\n",
            "  Downloading urllib3-2.2.3-py3-none-any.whl.metadata (6.5 kB)\n",
            "Collecting certifi>=2017.4.17 (from requests[socks]->gdown)\n",
            "  Downloading certifi-2025.4.26-py3-none-any.whl.metadata (2.5 kB)\n",
            "Collecting PySocks!=1.5.7,>=1.5.6 (from requests[socks]->gdown)\n",
            "  Downloading PySocks-1.7.1-py3-none-any.whl.metadata (13 kB)\n",
            "Downloading gdown-5.2.0-py3-none-any.whl (18 kB)\n",
            "Downloading beautifulsoup4-4.13.4-py3-none-any.whl (187 kB)\n",
            "Downloading filelock-3.16.1-py3-none-any.whl (16 kB)\n",
            "Downloading tqdm-4.67.1-py3-none-any.whl (78 kB)\n",
            "Downloading certifi-2025.4.26-py3-none-any.whl (159 kB)\n",
            "Downloading charset_normalizer-3.4.2-cp38-cp38-manylinux_2_17_x86_64.manylinux2014_x86_64.whl (147 kB)\n",
            "Downloading idna-3.10-py3-none-any.whl (70 kB)\n",
            "Downloading PySocks-1.7.1-py3-none-any.whl (16 kB)\n",
            "Downloading soupsieve-2.7-py3-none-any.whl (36 kB)\n",
            "Downloading urllib3-2.2.3-py3-none-any.whl (126 kB)\n",
            "Downloading requests-2.32.3-py3-none-any.whl (64 kB)\n",
            "Installing collected packages: urllib3, tqdm, soupsieve, PySocks, idna, filelock, charset-normalizer, certifi, requests, beautifulsoup4, gdown\n",
            "Successfully installed PySocks-1.7.1 beautifulsoup4-4.13.4 certifi-2025.4.26 charset-normalizer-3.4.2 filelock-3.16.1 gdown-5.2.0 idna-3.10 requests-2.32.3 soupsieve-2.7 tqdm-4.67.1 urllib3-2.2.3\n"
          ]
        }
      ],
      "source": [
        "!python3.8 -m pip install torch==1.12.1\n",
        "!python3.8 -m pip install scikit-learn==1.2.2\n",
        "!python3.8 -m pip install -U gdown"
      ]
    },
    {
      "cell_type": "code",
      "source": [
        "!gdown 1nu57AoPL7PHVDBZcYEAe-09yRypx8Av_"
      ],
      "metadata": {
        "colab": {
          "base_uri": "https://localhost:8080/"
        },
        "id": "3StwELDAMlNU",
        "outputId": "1966a528-2731-4922-8a5c-dded396c68a2"
      },
      "execution_count": 5,
      "outputs": [
        {
          "output_type": "stream",
          "name": "stdout",
          "text": [
            "Downloading...\n",
            "From (original): https://drive.google.com/uc?id=1nu57AoPL7PHVDBZcYEAe-09yRypx8Av_\n",
            "From (redirected): https://drive.google.com/uc?id=1nu57AoPL7PHVDBZcYEAe-09yRypx8Av_&confirm=t&uuid=466a3829-e8e0-49f3-948c-d41440de5556\n",
            "To: /content/Magic-5directions.zip\n",
            "100% 527M/527M [00:06<00:00, 84.7MB/s]\n"
          ]
        }
      ]
    },
    {
      "cell_type": "code",
      "execution_count": 6,
      "metadata": {
        "colab": {
          "base_uri": "https://localhost:8080/"
        },
        "id": "oOtlEw0o315E",
        "outputId": "698981e8-f42e-4b03-dcc5-a19edfaf2245"
      },
      "outputs": [
        {
          "output_type": "stream",
          "name": "stdout",
          "text": [
            "Archive:  /content/Magic-5directions.zip\n",
            "   creating: content/MAGIC/\n",
            "   creating: content/MAGIC/utils/\n",
            "  inflating: content/MAGIC/utils/poolers.py  \n",
            "  inflating: content/MAGIC/utils/config.py  \n",
            "  inflating: content/MAGIC/utils/wget_parser.py  \n",
            "   creating: content/MAGIC/utils/__pycache__/\n",
            "  inflating: content/MAGIC/utils/__pycache__/loaddata.cpython-38.pyc  \n",
            "  inflating: content/MAGIC/utils/__pycache__/poolers.cpython-38.pyc  \n",
            "  inflating: content/MAGIC/utils/__pycache__/config.cpython-38.pyc  \n",
            "  inflating: content/MAGIC/utils/__pycache__/utils.cpython-38.pyc  \n",
            "  inflating: content/MAGIC/utils/utils.py  \n",
            "  inflating: content/MAGIC/utils/streamspot_parser.py  \n",
            "  inflating: content/MAGIC/utils/trace_parser.py  \n",
            "  inflating: content/MAGIC/utils/loaddata.py  \n",
            "  inflating: content/MAGIC/train.py  \n",
            "   creating: content/MAGIC/figs/\n",
            "  inflating: content/MAGIC/figs/model.png  \n",
            "   creating: content/MAGIC/eval_result/\n",
            "  inflating: content/MAGIC/eval_result/distance_save_cadets.pkl  \n",
            "  inflating: content/MAGIC/eval_result/distance_save_trace.pkl  \n",
            "  inflating: content/MAGIC/eval_result/distance_save_theia.pkl  \n",
            "   creating: content/MAGIC/.git/\n",
            " extracting: content/MAGIC/.git/HEAD  \n",
            "   creating: content/MAGIC/.git/refs/\n",
            "   creating: content/MAGIC/.git/refs/remotes/\n",
            "   creating: content/MAGIC/.git/refs/remotes/origin/\n",
            " extracting: content/MAGIC/.git/refs/remotes/origin/HEAD  \n",
            "   creating: content/MAGIC/.git/refs/heads/\n",
            "  inflating: content/MAGIC/.git/refs/heads/main  \n",
            "   creating: content/MAGIC/.git/refs/tags/\n",
            "  inflating: content/MAGIC/.git/description  \n",
            "   creating: content/MAGIC/.git/objects/\n",
            "   creating: content/MAGIC/.git/objects/pack/\n",
            "  inflating: content/MAGIC/.git/objects/pack/pack-4c75ee7772531244263e220397972aafe1c1235e.idx  \n",
            "  inflating: content/MAGIC/.git/objects/pack/pack-4c75ee7772531244263e220397972aafe1c1235e.pack  \n",
            "   creating: content/MAGIC/.git/objects/info/\n",
            "  inflating: content/MAGIC/.git/index  \n",
            "  inflating: content/MAGIC/.git/packed-refs  \n",
            "   creating: content/MAGIC/.git/logs/\n",
            "  inflating: content/MAGIC/.git/logs/HEAD  \n",
            "   creating: content/MAGIC/.git/logs/refs/\n",
            "   creating: content/MAGIC/.git/logs/refs/remotes/\n",
            "   creating: content/MAGIC/.git/logs/refs/remotes/origin/\n",
            "  inflating: content/MAGIC/.git/logs/refs/remotes/origin/HEAD  \n",
            "   creating: content/MAGIC/.git/logs/refs/heads/\n",
            "  inflating: content/MAGIC/.git/logs/refs/heads/main  \n",
            "  inflating: content/MAGIC/.git/config  \n",
            "   creating: content/MAGIC/.git/info/\n",
            "  inflating: content/MAGIC/.git/info/exclude  \n",
            "   creating: content/MAGIC/.git/hooks/\n",
            "  inflating: content/MAGIC/.git/hooks/push-to-checkout.sample  \n",
            "  inflating: content/MAGIC/.git/hooks/commit-msg.sample  \n",
            "  inflating: content/MAGIC/.git/hooks/pre-push.sample  \n",
            "  inflating: content/MAGIC/.git/hooks/fsmonitor-watchman.sample  \n",
            "  inflating: content/MAGIC/.git/hooks/pre-commit.sample  \n",
            "  inflating: content/MAGIC/.git/hooks/prepare-commit-msg.sample  \n",
            "  inflating: content/MAGIC/.git/hooks/pre-rebase.sample  \n",
            "  inflating: content/MAGIC/.git/hooks/applypatch-msg.sample  \n",
            "  inflating: content/MAGIC/.git/hooks/pre-applypatch.sample  \n",
            "  inflating: content/MAGIC/.git/hooks/pre-merge-commit.sample  \n",
            "  inflating: content/MAGIC/.git/hooks/update.sample  \n",
            "  inflating: content/MAGIC/.git/hooks/pre-receive.sample  \n",
            "  inflating: content/MAGIC/.git/hooks/post-update.sample  \n",
            "   creating: content/MAGIC/.git/branches/\n",
            "   creating: content/MAGIC/model/\n",
            "  inflating: content/MAGIC/model/train.py  \n",
            "  inflating: content/MAGIC/model/gat.py  \n",
            "   creating: content/MAGIC/model/__pycache__/\n",
            "  inflating: content/MAGIC/model/__pycache__/train.cpython-38.pyc  \n",
            "  inflating: content/MAGIC/model/__pycache__/autoencoder.cpython-38.pyc  \n",
            "  inflating: content/MAGIC/model/__pycache__/gat.cpython-38.pyc  \n",
            "  inflating: content/MAGIC/model/__pycache__/loss_func.cpython-38.pyc  \n",
            "  inflating: content/MAGIC/model/__pycache__/eval.cpython-38.pyc  \n",
            "  inflating: content/MAGIC/model/autoencoder.py  \n",
            "  inflating: content/MAGIC/model/eval.py  \n",
            "  inflating: content/MAGIC/model/mlp.py  \n",
            "  inflating: content/MAGIC/model/loss_func.py  \n",
            "  inflating: content/MAGIC/requirements.txt  \n",
            "  inflating: content/MAGIC/LICENSE   \n",
            "   creating: content/MAGIC/checkpoints/\n",
            "  inflating: content/MAGIC/checkpoints/checkpoint-cadets.pt  \n",
            "  inflating: content/MAGIC/checkpoints/checkpoint-fivedirections.pt  \n",
            "  inflating: content/MAGIC/checkpoints/checkpoint-theia.pt  \n",
            "  inflating: content/MAGIC/checkpoints/checkpoint-wget.pt  \n",
            "  inflating: content/MAGIC/checkpoints/checkpoint-trace.pt  \n",
            "  inflating: content/MAGIC/checkpoints/checkpoint-streamspot.pt  \n",
            "   creating: content/MAGIC/data/\n",
            "   creating: content/MAGIC/data/wget/\n",
            " extracting: content/MAGIC/data/wget/graphs.zip  \n",
            "   creating: content/MAGIC/data/fivedirections/\n",
            " extracting: content/MAGIC/data/fivedirections/malicious.zip  \n",
            "  inflating: content/MAGIC/data/fivedirections/train18.pkl  \n",
            "  inflating: content/MAGIC/data/fivedirections/train20.pkl  \n",
            "  inflating: content/MAGIC/data/fivedirections/test2.pkl  \n",
            "  inflating: content/MAGIC/data/fivedirections/train16.pkl  \n",
            "  inflating: content/MAGIC/data/fivedirections/train0.pkl  \n",
            "  inflating: content/MAGIC/data/fivedirections/train4.pkl  \n",
            "  inflating: content/MAGIC/data/fivedirections/test3.pkl  \n",
            "  inflating: content/MAGIC/data/fivedirections/test0.pkl  \n",
            "  inflating: content/MAGIC/data/fivedirections/train2.pkl  \n",
            "  inflating: content/MAGIC/data/fivedirections/train1.pkl  \n",
            "  inflating: content/MAGIC/data/fivedirections/test6.pkl  \n",
            "  inflating: content/MAGIC/data/fivedirections/train9.pkl  \n",
            "  inflating: content/MAGIC/data/fivedirections/train7.pkl  \n",
            "  inflating: content/MAGIC/data/fivedirections/train13.pkl  \n",
            "  inflating: content/MAGIC/data/fivedirections/test5.pkl  \n",
            "  inflating: content/MAGIC/data/fivedirections/train8.pkl  \n",
            "  inflating: content/MAGIC/data/fivedirections/train14.pkl  \n",
            "  inflating: content/MAGIC/data/fivedirections/malicious_names.txt  \n",
            "  inflating: content/MAGIC/data/fivedirections/malicious.pkl  \n",
            "  inflating: content/MAGIC/data/fivedirections/train.pkl  \n",
            "  inflating: content/MAGIC/data/fivedirections/train15.pkl  \n",
            "  inflating: content/MAGIC/data/fivedirections/metadata.json  \n",
            "  inflating: content/MAGIC/data/fivedirections/train12.pkl  \n",
            "  inflating: content/MAGIC/data/fivedirections/types.json  \n",
            "  inflating: content/MAGIC/data/fivedirections/test.pkl  \n",
            "  inflating: content/MAGIC/data/fivedirections/test1.pkl  \n",
            "  inflating: content/MAGIC/data/fivedirections/train3.pkl  \n",
            "  inflating: content/MAGIC/data/fivedirections/train6.pkl  \n",
            "  inflating: content/MAGIC/data/fivedirections/train17.pkl  \n",
            "  inflating: content/MAGIC/data/fivedirections/fivedirections.txt  \n",
            "  inflating: content/MAGIC/data/fivedirections/test4.pkl  \n",
            "  inflating: content/MAGIC/data/fivedirections/train5.pkl  \n",
            "  inflating: content/MAGIC/data/fivedirections/train11.pkl  \n",
            "  inflating: content/MAGIC/data/fivedirections/names.json  \n",
            "  inflating: content/MAGIC/data/fivedirections/train10.pkl  \n",
            "  inflating: content/MAGIC/data/fivedirections/train19.pkl  \n",
            "   creating: content/MAGIC/data/trace/\n",
            " extracting: content/MAGIC/data/trace/graphs.zip  \n",
            "   creating: content/MAGIC/data/.ipynb_checkpoints/\n",
            "   creating: content/MAGIC/data/cadets/\n",
            " extracting: content/MAGIC/data/cadets/graphs.zip  \n",
            "   creating: content/MAGIC/data/theia/\n",
            " extracting: content/MAGIC/data/theia/graphs.zip  \n",
            "   creating: content/MAGIC/data/streamspot/\n",
            " extracting: content/MAGIC/data/streamspot/graphs.zip  \n",
            "  inflating: content/MAGIC/README.md  \n",
            "  inflating: content/MAGIC/eval.py   \n",
            "  inflating: content/MAGIC/.gitignore  \n"
          ]
        }
      ],
      "source": [
        "!unzip /content/Magic-5directions.zip"
      ]
    },
    {
      "cell_type": "code",
      "execution_count": 7,
      "metadata": {
        "colab": {
          "base_uri": "https://localhost:8080/"
        },
        "id": "Gb5ESR5CGLpb",
        "outputId": "75b66aa3-eade-4468-b761-73f7d2013985"
      },
      "outputs": [
        {
          "output_type": "stream",
          "name": "stdout",
          "text": [
            "/content/content/MAGIC\n"
          ]
        }
      ],
      "source": [
        "%cd content/MAGIC/"
      ]
    },
    {
      "cell_type": "code",
      "execution_count": 8,
      "metadata": {
        "colab": {
          "base_uri": "https://localhost:8080/"
        },
        "id": "lnqJBCoiLj5U",
        "outputId": "831b8778-f06c-416a-cf14-90b770791e4e"
      },
      "outputs": [
        {
          "output_type": "stream",
          "name": "stdout",
          "text": [
            "Collecting dgl==1.0.0\n",
            "  Downloading dgl-1.0.0-cp38-cp38-manylinux1_x86_64.whl.metadata (558 bytes)\n",
            "Requirement already satisfied: numpy>=1.14.0 in /usr/local/lib/python3.8/dist-packages (from dgl==1.0.0) (1.24.4)\n",
            "Requirement already satisfied: scipy>=1.1.0 in /usr/local/lib/python3.8/dist-packages (from dgl==1.0.0) (1.10.1)\n",
            "Collecting networkx>=2.1 (from dgl==1.0.0)\n",
            "  Downloading networkx-3.1-py3-none-any.whl.metadata (5.3 kB)\n",
            "Requirement already satisfied: requests>=2.19.0 in /usr/local/lib/python3.8/dist-packages (from dgl==1.0.0) (2.32.3)\n",
            "Requirement already satisfied: tqdm in /usr/local/lib/python3.8/dist-packages (from dgl==1.0.0) (4.67.1)\n",
            "Collecting psutil>=5.8.0 (from dgl==1.0.0)\n",
            "  Downloading psutil-7.0.0-cp36-abi3-manylinux_2_12_x86_64.manylinux2010_x86_64.manylinux_2_17_x86_64.manylinux2014_x86_64.whl.metadata (22 kB)\n",
            "Requirement already satisfied: charset-normalizer<4,>=2 in /usr/local/lib/python3.8/dist-packages (from requests>=2.19.0->dgl==1.0.0) (3.4.2)\n",
            "Requirement already satisfied: idna<4,>=2.5 in /usr/local/lib/python3.8/dist-packages (from requests>=2.19.0->dgl==1.0.0) (3.10)\n",
            "Requirement already satisfied: urllib3<3,>=1.21.1 in /usr/local/lib/python3.8/dist-packages (from requests>=2.19.0->dgl==1.0.0) (2.2.3)\n",
            "Requirement already satisfied: certifi>=2017.4.17 in /usr/local/lib/python3.8/dist-packages (from requests>=2.19.0->dgl==1.0.0) (2025.4.26)\n",
            "Downloading dgl-1.0.0-cp38-cp38-manylinux1_x86_64.whl (5.4 MB)\n",
            "\u001b[2K   \u001b[90m━━━━━━━━━━━━━━━━━━━━━━━━━━━━━━━━━━━━━━━━\u001b[0m \u001b[32m5.4/5.4 MB\u001b[0m \u001b[31m11.6 MB/s\u001b[0m eta \u001b[36m0:00:00\u001b[0m\n",
            "\u001b[?25hDownloading networkx-3.1-py3-none-any.whl (2.1 MB)\n",
            "\u001b[2K   \u001b[90m━━━━━━━━━━━━━━━━━━━━━━━━━━━━━━━━━━━━━━━━\u001b[0m \u001b[32m2.1/2.1 MB\u001b[0m \u001b[31m79.5 MB/s\u001b[0m eta \u001b[36m0:00:00\u001b[0m\n",
            "\u001b[?25hDownloading psutil-7.0.0-cp36-abi3-manylinux_2_12_x86_64.manylinux2010_x86_64.manylinux_2_17_x86_64.manylinux2014_x86_64.whl (277 kB)\n",
            "Installing collected packages: psutil, networkx, dgl\n",
            "Successfully installed dgl-1.0.0 networkx-3.1 psutil-7.0.0\n"
          ]
        }
      ],
      "source": [
        "!python3.8 -m pip install dgl==1.0.0"
      ]
    },
    {
      "cell_type": "code",
      "execution_count": 9,
      "metadata": {
        "colab": {
          "base_uri": "https://localhost:8080/"
        },
        "id": "xOS8ihP-5Sqa",
        "outputId": "50de9551-e75c-41cc-b695-8c4c9d35e4c6"
      },
      "outputs": [
        {
          "output_type": "stream",
          "name": "stdout",
          "text": [
            "DGL backend not selected or invalid.  Assuming PyTorch for now.\n",
            "Setting the default backend to \"pytorch\". You can change it in the ~/.dgl/config.json file or export the DGLBACKEND environment variable.  Valid options are: pytorch, mxnet, tensorflow (all lowercase)\n",
            "AUC: 0.7539261826136495\n",
            "F1: 0.0\n",
            "PRECISION: 1.0\n",
            "RECALL: 0.0\n",
            "TN: 166962\n",
            "FN: 202\n",
            "TP: 0\n",
            "FP: 1\n",
            "#Test_AUC: 0.7539±0.0000\n"
          ]
        }
      ],
      "source": [
        "!python3.8 eval.py --dataset fivedirections"
      ]
    }
  ],
  "metadata": {
    "colab": {
      "provenance": []
    },
    "kernelspec": {
      "display_name": "Python 3",
      "name": "python3"
    },
    "language_info": {
      "name": "python"
    }
  },
  "nbformat": 4,
  "nbformat_minor": 0
}